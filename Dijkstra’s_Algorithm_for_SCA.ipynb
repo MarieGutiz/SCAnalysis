{
  "nbformat": 4,
  "nbformat_minor": 0,
  "metadata": {
    "colab": {
      "provenance": [],
      "authorship_tag": "ABX9TyN5DSEkPY7jY9eGkzmLiJ1T",
      "include_colab_link": true
    },
    "kernelspec": {
      "name": "python3",
      "display_name": "Python 3"
    },
    "language_info": {
      "name": "python"
    }
  },
  "cells": [
    {
      "cell_type": "markdown",
      "metadata": {
        "id": "view-in-github",
        "colab_type": "text"
      },
      "source": [
        "<a href=\"https://colab.research.google.com/github/MarieGutiz/SCAnalysis/blob/master/Dijkstra%E2%80%99s_Algorithm_for_SCA.ipynb\" target=\"_parent\"><img src=\"https://colab.research.google.com/assets/colab-badge.svg\" alt=\"Open In Colab\"/></a>"
      ]
    },
    {
      "cell_type": "code",
      "execution_count": null,
      "metadata": {
        "id": "vm-vviGJjpO6"
      },
      "outputs": [],
      "source": [
        "import heapq\n",
        "\n",
        "# Define the graph with nodes and distances\n",
        "graph = {\n",
        "    'WA': {'MT': 209, 'RI': 111},\n",
        "    'SL': {'CH': 300, 'IN': 245, 'LV': 263, 'NV': 312},\n",
        "    'CH': {'SL': 300, 'IN': 201,'CL':362},\n",
        "    'IN': {'SL': 245, 'CH': 201, 'LV': 114, 'CO': 176, 'CI': 112},\n",
        "    'NV': {'KV': 180,'LV': 175,'SL':312},\n",
        "    'CL': {'HB': 332, 'MT': 201, 'CN': 251, 'CO': 142,'CH':362},\n",
        "    'LV': {'SL': 263, 'NV': 175, 'LX': 86, 'IN':114},\n",
        "    'CO': {'IN': 176, 'CI': 105, 'CL':142},\n",
        "    'CI': {'IN': 112, 'CO': 105, 'CN': 204, 'LX': 95},\n",
        "    'KV': {'NV': 180, 'GR': 299,'LX':170},\n",
        "    'HB': {'CL': 332, 'MT': 213, 'WA': 120},\n",
        "    'MT': {'CL': 201, 'CN': 157,'WA': 209, 'HB': 213},\n",
        "    'CN': {'CL': 251, 'CI': 204, 'LX': 177, 'MT': 157, 'RI': 318, 'GR': 244},\n",
        "    'LX': {'LV': 86, 'CI': 95, 'KV': 170, 'CN': 177},\n",
        "    'RI': {'WA': 111,'CN': 318, 'GR': 205},\n",
        "    'GR': {'CN': 244, 'KV': 299, 'RI': 205}\n",
        "}\n",
        "\n"
      ]
    },
    {
      "cell_type": "code",
      "source": [
        "def dijkstra(graph, start):\n",
        "    shortest_paths = {node: float('inf') for node in graph}\n",
        "    shortest_paths[start] = 0\n",
        "    priority_queue = [(0, start)]\n",
        "\n",
        "    while priority_queue:\n",
        "        current_distance, current_node = heapq.heappop(priority_queue)\n",
        "\n",
        "        if current_distance > shortest_paths[current_node]:\n",
        "            continue\n",
        "\n",
        "        for neighbor, weight in graph[current_node].items():\n",
        "            distance = current_distance + weight\n",
        "\n",
        "            if distance < shortest_paths[neighbor]:\n",
        "                shortest_paths[neighbor] = distance\n",
        "                heapq.heappush(priority_queue, (distance, neighbor))\n",
        "\n",
        "    return shortest_paths\n",
        "\n",
        "# Find the shortest paths from 'WA' to all nodes\n",
        "start_node = 'WA'\n",
        "shortest_paths = dijkstra(graph, start_node)\n",
        "\n",
        "# Print the results\n",
        "for node, distance in shortest_paths.items():\n",
        "    print(f'Shortest distance from {start_node} to {node}: {distance}')"
      ],
      "metadata": {
        "colab": {
          "base_uri": "https://localhost:8080/"
        },
        "id": "QcnUGW2fj2-P",
        "outputId": "df4e0d4a-b4eb-454d-8ced-5dd0bc2ff53e"
      },
      "execution_count": null,
      "outputs": [
        {
          "output_type": "stream",
          "name": "stdout",
          "text": [
            "Shortest distance from WA to WA: 0\n",
            "Shortest distance from WA to SL: 892\n",
            "Shortest distance from WA to CH: 772\n",
            "Shortest distance from WA to IN: 682\n",
            "Shortest distance from WA to NV: 795\n",
            "Shortest distance from WA to CL: 410\n",
            "Shortest distance from WA to LV: 629\n",
            "Shortest distance from WA to CO: 552\n",
            "Shortest distance from WA to CI: 570\n",
            "Shortest distance from WA to KV: 615\n",
            "Shortest distance from WA to HB: 422\n",
            "Shortest distance from WA to MT: 209\n",
            "Shortest distance from WA to CN: 366\n",
            "Shortest distance from WA to LX: 543\n",
            "Shortest distance from WA to RI: 111\n",
            "Shortest distance from WA to GR: 316\n"
          ]
        }
      ]
    }
  ]
}