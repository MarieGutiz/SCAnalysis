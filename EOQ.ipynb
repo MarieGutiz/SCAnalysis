{
  "nbformat": 4,
  "nbformat_minor": 0,
  "metadata": {
    "colab": {
      "provenance": [],
      "authorship_tag": "ABX9TyMWXTSgtxDKbAEOjXvUMwg9",
      "include_colab_link": true
    },
    "kernelspec": {
      "name": "python3",
      "display_name": "Python 3"
    },
    "language_info": {
      "name": "python"
    }
  },
  "cells": [
    {
      "cell_type": "markdown",
      "metadata": {
        "id": "view-in-github",
        "colab_type": "text"
      },
      "source": [
        "<a href=\"https://colab.research.google.com/github/MarieGutiz/SCAnalysis/blob/master/EOQ.ipynb\" target=\"_parent\"><img src=\"https://colab.research.google.com/assets/colab-badge.svg\" alt=\"Open In Colab\"/></a>"
      ]
    },
    {
      "cell_type": "code",
      "execution_count": 3,
      "metadata": {
        "id": "GohELFDzLLA_"
      },
      "outputs": [],
      "source": [
        "import math\n",
        "\n",
        "'''\n",
        "EOQ = sqrt((2*D*ct)/ce),\n",
        "where ce = holding_cost * cost\n",
        "\n",
        "'''\n",
        "# Constants\n",
        "annual_demand = 34954\n",
        "cost_per_bottle = 78\n",
        "ordering_cost = 513\n",
        "annual_holding_cost_rate = 0.14\n",
        "extra_handling_cost_per_bottle = 0.34\n",
        "holding_cost_per_bottle = annual_holding_cost_rate * cost_per_bottle"
      ]
    },
    {
      "cell_type": "code",
      "source": [
        "#Define total cost\n",
        "\n",
        "def total_cost(order_qtity):\n",
        "  if order_qtity <= 409:\n",
        "    total = ordering_cost + (order_qtity/2) * holding_cost_per_bottle\n",
        "  else:\n",
        "    total = ordering_cost + (order_qtity/2) * holding_cost_per_bottle + (order_qtity * extra_handling_cost_per_bottle)\n",
        "  return total\n",
        "\n"
      ],
      "metadata": {
        "id": "h3C_LhH9MpA3"
      },
      "execution_count": 4,
      "outputs": []
    },
    {
      "cell_type": "code",
      "source": [
        "# Find optimal order quantity given by EOQ\n",
        "def optimal_order_quantity():\n",
        "  optimal_qtity = math.sqrt(2* annual_demand * ordering_cost)/ (annual_holding_cost_rate * cost_per_bottle)\n",
        "  return round(optimal_qtity)"
      ],
      "metadata": {
        "id": "3eCI4agkPiAh"
      },
      "execution_count": 10,
      "outputs": []
    },
    {
      "cell_type": "code",
      "source": [
        "# Calculate optimal order quantity\n",
        "optimal_quantity = optimal_order_quantity()\n",
        "\n",
        "# Calculate total cost for optimal quantity\n",
        "total_cost_optimal = total_cost(optimal_quantity)\n",
        "\n",
        "print(\"Optimal Order Quantity:\", optimal_quantity)\n",
        "print(\"Total Cost for Optimal Quantity:\", total_cost_optimal)\n",
        "print(\"Qtity for 409 bottles \",total_cost(409))"
      ],
      "metadata": {
        "id": "9H6sTnwpRCXR",
        "outputId": "297d0c3c-6240-411a-98c2-3d70c1261a98",
        "colab": {
          "base_uri": "https://localhost:8080/"
        }
      },
      "execution_count": 11,
      "outputs": [
        {
          "output_type": "stream",
          "name": "stdout",
          "text": [
            "Optimal Order Quantity: 548\n",
            "Total Cost for Optimal Quantity: 3691.4000000000005\n",
            "Qtity for 409 bottles  2746.1400000000003\n"
          ]
        }
      ]
    }
  ]
}