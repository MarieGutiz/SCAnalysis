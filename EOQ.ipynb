{
  "nbformat": 4,
  "nbformat_minor": 0,
  "metadata": {
    "colab": {
      "provenance": [],
      "authorship_tag": "ABX9TyMDJ+6RUtCdlII8Qr9XSnhC",
      "include_colab_link": true
    },
    "kernelspec": {
      "name": "python3",
      "display_name": "Python 3"
    },
    "language_info": {
      "name": "python"
    }
  },
  "cells": [
    {
      "cell_type": "markdown",
      "metadata": {
        "id": "view-in-github",
        "colab_type": "text"
      },
      "source": [
        "<a href=\"https://colab.research.google.com/github/MarieGutiz/SCAnalysis/blob/master/EOQ.ipynb\" target=\"_parent\"><img src=\"https://colab.research.google.com/assets/colab-badge.svg\" alt=\"Open In Colab\"/></a>"
      ]
    },
    {
      "cell_type": "code",
      "execution_count": 1,
      "metadata": {
        "id": "GohELFDzLLA_"
      },
      "outputs": [],
      "source": [
        "import math\n",
        "\n",
        "'''\n",
        "EOQ = sqrt(2*D*ct)/ce,\n",
        "where ce = holding_cost * cost\n",
        "\n",
        "'''\n",
        "# Constants\n",
        "annual_demand = 34954\n",
        "cost_per_bottle = 78\n",
        "ordering_cost = 513\n",
        "annual_holding_cost_rate = 0.14\n",
        "extra_handling_cost_per_bottle = 0.34\n",
        "holding_cost_per_bottle = annual_holding_cost_rate * cost_per_bottle"
      ]
    },
    {
      "cell_type": "code",
      "source": [
        "#Define total cost\n",
        "\n",
        "def total_cost(order_qtity):\n",
        "  if order_qtity <= 409:\n",
        "    total = ordering_cost + ()\n",
        "\n"
      ],
      "metadata": {
        "id": "h3C_LhH9MpA3"
      },
      "execution_count": null,
      "outputs": []
    }
  ]
}